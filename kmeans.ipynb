{
 "cells": [
  {
   "cell_type": "code",
   "execution_count": 1,
   "metadata": {},
   "outputs": [],
   "source": [
    "import pandas as pd\n",
    "import numpy as np\n",
    "import string\n",
    "import re\n",
    "\n",
    "import matplotlib.pyplot as plt\n",
    "plt.style.use('fivethirtyeight')\n",
    "%matplotlib inline\n",
    "\n",
    "import seaborn as sns\n",
    "sns.set()\n",
    "\n",
    "import warnings\n",
    "warnings.filterwarnings('ignore')\n",
    "\n",
    "import nltk\n",
    "from nltk.corpus import stopwords\n",
    "from nltk.tokenize import word_tokenize\n",
    "from nltk.tokenize import sent_tokenize\n",
    "from nltk.stem.porter import PorterStemmer\n",
    "from nltk.stem.wordnet import WordNetLemmatizer\n",
    "\n",
    "from sklearn.cluster import KMeans\n",
    "from sklearn.decomposition import PCA\n",
    "from sklearn.feature_extraction.text import TfidfVectorizer as tfi\n",
    "from sklearn.preprocessing import normalize\n",
    "from sklearn.metrics import pairwise_distances"
   ]
  },
  {
   "cell_type": "code",
   "execution_count": 2,
   "metadata": {},
   "outputs": [
    {
     "data": {
      "text/html": [
       "<div>\n",
       "<style scoped>\n",
       "    .dataframe tbody tr th:only-of-type {\n",
       "        vertical-align: middle;\n",
       "    }\n",
       "\n",
       "    .dataframe tbody tr th {\n",
       "        vertical-align: top;\n",
       "    }\n",
       "\n",
       "    .dataframe thead th {\n",
       "        text-align: right;\n",
       "    }\n",
       "</style>\n",
       "<table border=\"1\" class=\"dataframe\">\n",
       "  <thead>\n",
       "    <tr style=\"text-align: right;\">\n",
       "      <th></th>\n",
       "      <th>date</th>\n",
       "      <th>tweet</th>\n",
       "    </tr>\n",
       "  </thead>\n",
       "  <tbody>\n",
       "    <tr>\n",
       "      <td>0</td>\n",
       "      <td>2020-07-15</td>\n",
       "      <td>Radio Batuu broadcasts Star Wars music, news a...</td>\n",
       "    </tr>\n",
       "    <tr>\n",
       "      <td>1</td>\n",
       "      <td>2020-07-15</td>\n",
       "      <td>Entrance to Rise of the Resistance at 10:30am....</td>\n",
       "    </tr>\n",
       "    <tr>\n",
       "      <td>2</td>\n",
       "      <td>2020-07-15</td>\n",
       "      <td>The moment I saw this my mouth dropped open an...</td>\n",
       "    </tr>\n",
       "    <tr>\n",
       "      <td>3</td>\n",
       "      <td>2020-07-15</td>\n",
       "      <td>4 months later and this hunk of junk is still ...</td>\n",
       "    </tr>\n",
       "    <tr>\n",
       "      <td>4</td>\n",
       "      <td>2020-07-15</td>\n",
       "      <td>Headed to #GalaxysEdge this morning for the #d...</td>\n",
       "    </tr>\n",
       "    <tr>\n",
       "      <td>5</td>\n",
       "      <td>2020-07-15</td>\n",
       "      <td>🤔A \"Woke\" @StarWars reboot? @Disney #Lucasfilm...</td>\n",
       "    </tr>\n",
       "    <tr>\n",
       "      <td>6</td>\n",
       "      <td>2020-07-15</td>\n",
       "      <td>Chewie, we’re home.\\n\\n#dvcrental #disneyvacat...</td>\n",
       "    </tr>\n",
       "    <tr>\n",
       "      <td>7</td>\n",
       "      <td>2020-07-14</td>\n",
       "      <td>2 years ago this week, this model for Star War...</td>\n",
       "    </tr>\n",
       "    <tr>\n",
       "      <td>8</td>\n",
       "      <td>2020-07-14</td>\n",
       "      <td>So...Ms. Oga's getting her cut of this, right ...</td>\n",
       "    </tr>\n",
       "    <tr>\n",
       "      <td>9</td>\n",
       "      <td>2020-07-14</td>\n",
       "      <td>I wish I was back here. I went to the opening ...</td>\n",
       "    </tr>\n",
       "    <tr>\n",
       "      <td>10</td>\n",
       "      <td>2020-07-14</td>\n",
       "      <td>For #BatuuTuesday a parked X-wing near Rise of...</td>\n",
       "    </tr>\n",
       "    <tr>\n",
       "      <td>11</td>\n",
       "      <td>2020-07-14</td>\n",
       "      <td>When I see pictures of Batuu, I start to think...</td>\n",
       "    </tr>\n",
       "    <tr>\n",
       "      <td>12</td>\n",
       "      <td>2020-07-14</td>\n",
       "      <td>Visit Star Wars: Galaxy's Edge from the Comfor...</td>\n",
       "    </tr>\n",
       "    <tr>\n",
       "      <td>13</td>\n",
       "      <td>2020-07-14</td>\n",
       "      <td>Savi’s Workshop Currently Sells Legacy Lightsa...</td>\n",
       "    </tr>\n",
       "    <tr>\n",
       "      <td>14</td>\n",
       "      <td>2020-07-14</td>\n",
       "      <td>Will this be the Galaxy's Edge experience I wa...</td>\n",
       "    </tr>\n",
       "    <tr>\n",
       "      <td>15</td>\n",
       "      <td>2020-07-14</td>\n",
       "      <td>Get an X-Wing’s Perspective of Star Wars: Gala...</td>\n",
       "    </tr>\n",
       "    <tr>\n",
       "      <td>16</td>\n",
       "      <td>2020-07-14</td>\n",
       "      <td>A look at Galaxy’s Edge East during previews. ...</td>\n",
       "    </tr>\n",
       "    <tr>\n",
       "      <td>17</td>\n",
       "      <td>2020-07-14</td>\n",
       "      <td>New Permit Gives Us Hope for ‘Star Wars’ Hotel...</td>\n",
       "    </tr>\n",
       "    <tr>\n",
       "      <td>18</td>\n",
       "      <td>2020-07-14</td>\n",
       "      <td>AAHHHHHH!!! I can't wait for this to open! #St...</td>\n",
       "    </tr>\n",
       "    <tr>\n",
       "      <td>19</td>\n",
       "      <td>2020-07-14</td>\n",
       "      <td>Mail call! Thanks to @QuartoKids, @ColeHorton ...</td>\n",
       "    </tr>\n",
       "  </tbody>\n",
       "</table>\n",
       "</div>"
      ],
      "text/plain": [
       "          date                                              tweet\n",
       "0   2020-07-15  Radio Batuu broadcasts Star Wars music, news a...\n",
       "1   2020-07-15  Entrance to Rise of the Resistance at 10:30am....\n",
       "2   2020-07-15  The moment I saw this my mouth dropped open an...\n",
       "3   2020-07-15  4 months later and this hunk of junk is still ...\n",
       "4   2020-07-15  Headed to #GalaxysEdge this morning for the #d...\n",
       "5   2020-07-15  🤔A \"Woke\" @StarWars reboot? @Disney #Lucasfilm...\n",
       "6   2020-07-15  Chewie, we’re home.\\n\\n#dvcrental #disneyvacat...\n",
       "7   2020-07-14  2 years ago this week, this model for Star War...\n",
       "8   2020-07-14  So...Ms. Oga's getting her cut of this, right ...\n",
       "9   2020-07-14  I wish I was back here. I went to the opening ...\n",
       "10  2020-07-14  For #BatuuTuesday a parked X-wing near Rise of...\n",
       "11  2020-07-14  When I see pictures of Batuu, I start to think...\n",
       "12  2020-07-14  Visit Star Wars: Galaxy's Edge from the Comfor...\n",
       "13  2020-07-14  Savi’s Workshop Currently Sells Legacy Lightsa...\n",
       "14  2020-07-14  Will this be the Galaxy's Edge experience I wa...\n",
       "15  2020-07-14  Get an X-Wing’s Perspective of Star Wars: Gala...\n",
       "16  2020-07-14  A look at Galaxy’s Edge East during previews. ...\n",
       "17  2020-07-14  New Permit Gives Us Hope for ‘Star Wars’ Hotel...\n",
       "18  2020-07-14  AAHHHHHH!!! I can't wait for this to open! #St...\n",
       "19  2020-07-14  Mail call! Thanks to @QuartoKids, @ColeHorton ..."
      ]
     },
     "execution_count": 2,
     "metadata": {},
     "output_type": "execute_result"
    }
   ],
   "source": [
    "data = pd.read_csv('data/twitter_data/galaxys_edge.csv', \n",
    "                       usecols = ['tweet', 'date'])\n",
    "\n",
    "data.head(20)"
   ]
  },
  {
   "cell_type": "code",
   "execution_count": 3,
   "metadata": {},
   "outputs": [
    {
     "name": "stdout",
     "output_type": "stream",
     "text": [
      "before: (43158, 2)\n",
      "after: (43158, 2)\n"
     ]
    }
   ],
   "source": [
    "print('before:', data.shape)\n",
    "\n",
    "data.loc[data.astype(str).drop_duplicates().index]\n",
    "\n",
    "print('after:', data.shape)"
   ]
  },
  {
   "cell_type": "code",
   "execution_count": 4,
   "metadata": {},
   "outputs": [
    {
     "data": {
      "text/html": [
       "<div>\n",
       "<style scoped>\n",
       "    .dataframe tbody tr th:only-of-type {\n",
       "        vertical-align: middle;\n",
       "    }\n",
       "\n",
       "    .dataframe tbody tr th {\n",
       "        vertical-align: top;\n",
       "    }\n",
       "\n",
       "    .dataframe thead th {\n",
       "        text-align: right;\n",
       "    }\n",
       "</style>\n",
       "<table border=\"1\" class=\"dataframe\">\n",
       "  <thead>\n",
       "    <tr style=\"text-align: right;\">\n",
       "      <th></th>\n",
       "      <th>date</th>\n",
       "      <th>tweet</th>\n",
       "    </tr>\n",
       "  </thead>\n",
       "  <tbody>\n",
       "    <tr>\n",
       "      <td>0</td>\n",
       "      <td>2020-07-15</td>\n",
       "      <td>Radio Batuu broadcasts Star Wars music, news a...</td>\n",
       "    </tr>\n",
       "    <tr>\n",
       "      <td>1</td>\n",
       "      <td>2020-07-15</td>\n",
       "      <td>Entrance to Rise of the Resistance at 10:30am....</td>\n",
       "    </tr>\n",
       "    <tr>\n",
       "      <td>2</td>\n",
       "      <td>2020-07-15</td>\n",
       "      <td>The moment I saw this my mouth dropped open an...</td>\n",
       "    </tr>\n",
       "    <tr>\n",
       "      <td>3</td>\n",
       "      <td>2020-07-15</td>\n",
       "      <td>4 months later and this hunk of junk is still ...</td>\n",
       "    </tr>\n",
       "    <tr>\n",
       "      <td>4</td>\n",
       "      <td>2020-07-15</td>\n",
       "      <td>Headed to #GalaxysEdge this morning for the #d...</td>\n",
       "    </tr>\n",
       "  </tbody>\n",
       "</table>\n",
       "</div>"
      ],
      "text/plain": [
       "        date                                              tweet\n",
       "0 2020-07-15  Radio Batuu broadcasts Star Wars music, news a...\n",
       "1 2020-07-15  Entrance to Rise of the Resistance at 10:30am....\n",
       "2 2020-07-15  The moment I saw this my mouth dropped open an...\n",
       "3 2020-07-15  4 months later and this hunk of junk is still ...\n",
       "4 2020-07-15  Headed to #GalaxysEdge this morning for the #d..."
      ]
     },
     "execution_count": 4,
     "metadata": {},
     "output_type": "execute_result"
    }
   ],
   "source": [
    "data['date'] = pd.to_datetime(data['date'])\n",
    "\n",
    "data.head()"
   ]
  },
  {
   "cell_type": "code",
   "execution_count": 5,
   "metadata": {},
   "outputs": [
    {
     "data": {
      "text/plain": [
       "date     datetime64[ns]\n",
       "tweet            object\n",
       "dtype: object"
      ]
     },
     "execution_count": 5,
     "metadata": {},
     "output_type": "execute_result"
    }
   ],
   "source": [
    "data.dtypes"
   ]
  },
  {
   "cell_type": "code",
   "execution_count": 6,
   "metadata": {},
   "outputs": [
    {
     "name": "stdout",
     "output_type": "stream",
     "text": [
      "0        radio batuu broadcasts star wars music, news a...\n",
      "1        entrance to rise of the resistance at 10:30am....\n",
      "2        the moment i saw this my mouth dropped open an...\n",
      "3        4 months later and this hunk of junk is still ...\n",
      "4        headed to #galaxysedge this morning for the #d...\n",
      "                               ...                        \n",
      "43153    i love galaxy’s edge a ton and a lot of that l...\n",
      "43154    this childless millennial thing has really mad...\n",
      "43155    i don’t think i could take more of a perfect s...\n",
      "43156    star wars galaxy’s edge: a crash of fate book ...\n",
      "43157    @wdwtoday massive thank you to meghan at dok-o...\n",
      "Name: tweet, Length: 43158, dtype: object\n"
     ]
    }
   ],
   "source": [
    "data['tweet'] = [text.lower() for text in data['tweet']]\n",
    "\n",
    "print(data['tweet'])"
   ]
  },
  {
   "cell_type": "code",
   "execution_count": 7,
   "metadata": {},
   "outputs": [
    {
     "name": "stderr",
     "output_type": "stream",
     "text": [
      "IOPub data rate exceeded.\n",
      "The notebook server will temporarily stop sending output\n",
      "to the client in order to avoid crashing it.\n",
      "To change this limit, set the config variable\n",
      "`--NotebookApp.iopub_data_rate_limit`.\n",
      "\n",
      "Current values:\n",
      "NotebookApp.iopub_data_rate_limit=1000000.0 (bytes/sec)\n",
      "NotebookApp.rate_limit_window=3.0 (secs)\n",
      "\n"
     ]
    }
   ],
   "source": [
    "token_text = [word_tokenize(text) for text in data['tweet']]\n",
    "print(token_text)\n",
    "\n",
    "print('-------------------------------------------')\n",
    "\n",
    "sent_token = [sent_tokenize(text) for text in data['tweet']]"
   ]
  },
  {
   "cell_type": "code",
   "execution_count": 8,
   "metadata": {
    "scrolled": true
   },
   "outputs": [],
   "source": [
    "reg = re.compile('(@[a-z0-9]+)|([^0-9a-z \\t])|(\\w+:\\/\\/\\S+)')\n",
    "\n",
    "no_punc = []\n",
    "\n",
    "for filt in token_text:\n",
    "    review = []\n",
    "    for token in filt:\n",
    "        new_token = reg.sub(u'', token)\n",
    "        if not new_token == u'':\n",
    "            review.append(new_token)\n",
    "    no_punc.append(review)"
   ]
  },
  {
   "cell_type": "code",
   "execution_count": 9,
   "metadata": {
    "scrolled": true
   },
   "outputs": [
    {
     "name": "stdout",
     "output_type": "stream",
     "text": [
      "179\n"
     ]
    }
   ],
   "source": [
    "stop_words = stopwords.words('english')\n",
    "print(len(stop_words))"
   ]
  },
  {
   "cell_type": "code",
   "execution_count": 10,
   "metadata": {},
   "outputs": [
    {
     "name": "stdout",
     "output_type": "stream",
     "text": [
      "201\n"
     ]
    }
   ],
   "source": [
    "stop_words.extend(['galaxysedge','starwars', 'disneyland', 'disney','…', 'star', 'wars', 'edge', 'disneyworld', 'hollywoodstudios', 'galaxys', \"galaxy's\", 'starwarsgalaxysedge', 'wdw', 'waltdisneyworld', \"galaxy’s\", '–', 'disneyparks', 'hollywood', 'blackspireoutpost', 'galaxy', 'riseoftheresistance'])\n",
    "print(len(stop_words))"
   ]
  },
  {
   "cell_type": "code",
   "execution_count": 11,
   "metadata": {
    "scrolled": false
   },
   "outputs": [],
   "source": [
    "no_stop = []\n",
    "\n",
    "for text in no_punc:\n",
    "    new_term_vector = []\n",
    "    for word in text:\n",
    "        if not word in stop_words:\n",
    "            new_term_vector.append(word)\n",
    "            \n",
    "    no_stop.append(new_term_vector)"
   ]
  },
  {
   "cell_type": "code",
   "execution_count": 12,
   "metadata": {},
   "outputs": [],
   "source": [
    "pstem = PorterStemmer()\n",
    "wlem = WordNetLemmatizer()\n",
    "\n",
    "preproc_text = []\n",
    "\n",
    "for text in no_stop:\n",
    "    final_text = []\n",
    "    for word in text:\n",
    "        pstem.stem(word)\n",
    "        final_text.append(wlem.lemmatize(word))\n",
    "    \n",
    "    preproc_text.append(final_text)"
   ]
  },
  {
   "cell_type": "code",
   "execution_count": 13,
   "metadata": {},
   "outputs": [],
   "source": [
    "reg = re.compile(r'(http)|(^www)|(html$)|(\\w*\\d{3,}\\w*)')\n",
    "\n",
    "tuned_text = []\n",
    "\n",
    "for filt in preproc_text:\n",
    "    review = []\n",
    "    for token in filt:\n",
    "        new_token = reg.sub(u'', token)\n",
    "        if not new_token == u'':\n",
    "            review.append(new_token)\n",
    "    tuned_text.append(review)"
   ]
  },
  {
   "cell_type": "code",
   "execution_count": 14,
   "metadata": {},
   "outputs": [
    {
     "data": {
      "text/html": [
       "<div>\n",
       "<style scoped>\n",
       "    .dataframe tbody tr th:only-of-type {\n",
       "        vertical-align: middle;\n",
       "    }\n",
       "\n",
       "    .dataframe tbody tr th {\n",
       "        vertical-align: top;\n",
       "    }\n",
       "\n",
       "    .dataframe thead th {\n",
       "        text-align: right;\n",
       "    }\n",
       "</style>\n",
       "<table border=\"1\" class=\"dataframe\">\n",
       "  <thead>\n",
       "    <tr style=\"text-align: right;\">\n",
       "      <th></th>\n",
       "      <th>date</th>\n",
       "      <th>tweet</th>\n",
       "      <th>text</th>\n",
       "    </tr>\n",
       "  </thead>\n",
       "  <tbody>\n",
       "    <tr>\n",
       "      <td>0</td>\n",
       "      <td>2020-07-15</td>\n",
       "      <td>radio batuu broadcasts star wars music, news a...</td>\n",
       "      <td>[radio, batuu, broadcast, music, news, sport]</td>\n",
       "    </tr>\n",
       "    <tr>\n",
       "      <td>1</td>\n",
       "      <td>2020-07-15</td>\n",
       "      <td>entrance to rise of the resistance at 10:30am....</td>\n",
       "      <td>[entrance, rise, resistance, pictwittercomgedb...</td>\n",
       "    </tr>\n",
       "    <tr>\n",
       "      <td>2</td>\n",
       "      <td>2020-07-15</td>\n",
       "      <td>the moment i saw this my mouth dropped open an...</td>\n",
       "      <td>[moment, saw, mouth, dropped, open, seven, yea...</td>\n",
       "    </tr>\n",
       "    <tr>\n",
       "      <td>3</td>\n",
       "      <td>2020-07-15</td>\n",
       "      <td>4 months later and this hunk of junk is still ...</td>\n",
       "      <td>[4, month, later, hunk, junk, still, sitting, ...</td>\n",
       "    </tr>\n",
       "    <tr>\n",
       "      <td>4</td>\n",
       "      <td>2020-07-15</td>\n",
       "      <td>headed to #galaxysedge this morning for the #d...</td>\n",
       "      <td>[headed, morning, disneyworldreopening, nt, fo...</td>\n",
       "    </tr>\n",
       "  </tbody>\n",
       "</table>\n",
       "</div>"
      ],
      "text/plain": [
       "        date                                              tweet  \\\n",
       "0 2020-07-15  radio batuu broadcasts star wars music, news a...   \n",
       "1 2020-07-15  entrance to rise of the resistance at 10:30am....   \n",
       "2 2020-07-15  the moment i saw this my mouth dropped open an...   \n",
       "3 2020-07-15  4 months later and this hunk of junk is still ...   \n",
       "4 2020-07-15  headed to #galaxysedge this morning for the #d...   \n",
       "\n",
       "                                                text  \n",
       "0      [radio, batuu, broadcast, music, news, sport]  \n",
       "1  [entrance, rise, resistance, pictwittercomgedb...  \n",
       "2  [moment, saw, mouth, dropped, open, seven, yea...  \n",
       "3  [4, month, later, hunk, junk, still, sitting, ...  \n",
       "4  [headed, morning, disneyworldreopening, nt, fo...  "
      ]
     },
     "execution_count": 14,
     "metadata": {},
     "output_type": "execute_result"
    }
   ],
   "source": [
    "cleaned_data = data.copy()\n",
    "\n",
    "new_col = pd.Series(tuned_text)\n",
    "cleaned_data['text'] = new_col\n",
    "cleaned_data.head()"
   ]
  },
  {
   "cell_type": "markdown",
   "metadata": {},
   "source": [
    "# Exploratory Data Analysis"
   ]
  },
  {
   "cell_type": "markdown",
   "metadata": {},
   "source": [
    "## Term Frequency-Inverse Document Frequency (TF-IDF)"
   ]
  },
  {
   "cell_type": "code",
   "execution_count": 15,
   "metadata": {
    "scrolled": false
   },
   "outputs": [
    {
     "data": {
      "text/html": [
       "<div>\n",
       "<style scoped>\n",
       "    .dataframe tbody tr th:only-of-type {\n",
       "        vertical-align: middle;\n",
       "    }\n",
       "\n",
       "    .dataframe tbody tr th {\n",
       "        vertical-align: top;\n",
       "    }\n",
       "\n",
       "    .dataframe thead th {\n",
       "        text-align: right;\n",
       "    }\n",
       "</style>\n",
       "<table border=\"1\" class=\"dataframe\">\n",
       "  <thead>\n",
       "    <tr style=\"text-align: right;\">\n",
       "      <th></th>\n",
       "      <th>batuu</th>\n",
       "      <th>boarding</th>\n",
       "      <th>cantina</th>\n",
       "      <th>day</th>\n",
       "      <th>droid</th>\n",
       "      <th>experience</th>\n",
       "      <th>falcon</th>\n",
       "      <th>got</th>\n",
       "      <th>group</th>\n",
       "      <th>lightsaber</th>\n",
       "      <th>like</th>\n",
       "      <th>new</th>\n",
       "      <th>nt</th>\n",
       "      <th>park</th>\n",
       "      <th>resistance</th>\n",
       "      <th>ride</th>\n",
       "      <th>rise</th>\n",
       "      <th>studio</th>\n",
       "      <th>time</th>\n",
       "      <th>today</th>\n",
       "    </tr>\n",
       "  </thead>\n",
       "  <tbody>\n",
       "    <tr>\n",
       "      <td>0</td>\n",
       "      <td>1.0</td>\n",
       "      <td>0.0</td>\n",
       "      <td>0.0</td>\n",
       "      <td>0.0</td>\n",
       "      <td>0.0</td>\n",
       "      <td>0.0</td>\n",
       "      <td>0.0</td>\n",
       "      <td>0.0</td>\n",
       "      <td>0.0</td>\n",
       "      <td>0.0</td>\n",
       "      <td>0.0</td>\n",
       "      <td>0.0</td>\n",
       "      <td>0.0</td>\n",
       "      <td>0.0</td>\n",
       "      <td>0.000000</td>\n",
       "      <td>0.0</td>\n",
       "      <td>0.000000</td>\n",
       "      <td>0.0</td>\n",
       "      <td>0.0</td>\n",
       "      <td>0.0</td>\n",
       "    </tr>\n",
       "    <tr>\n",
       "      <td>1</td>\n",
       "      <td>0.0</td>\n",
       "      <td>0.0</td>\n",
       "      <td>0.0</td>\n",
       "      <td>0.0</td>\n",
       "      <td>0.0</td>\n",
       "      <td>0.0</td>\n",
       "      <td>0.0</td>\n",
       "      <td>0.0</td>\n",
       "      <td>0.0</td>\n",
       "      <td>0.0</td>\n",
       "      <td>0.0</td>\n",
       "      <td>0.0</td>\n",
       "      <td>0.0</td>\n",
       "      <td>0.0</td>\n",
       "      <td>0.701627</td>\n",
       "      <td>0.0</td>\n",
       "      <td>0.712544</td>\n",
       "      <td>0.0</td>\n",
       "      <td>0.0</td>\n",
       "      <td>0.0</td>\n",
       "    </tr>\n",
       "    <tr>\n",
       "      <td>2</td>\n",
       "      <td>0.0</td>\n",
       "      <td>0.0</td>\n",
       "      <td>0.0</td>\n",
       "      <td>0.0</td>\n",
       "      <td>0.0</td>\n",
       "      <td>0.0</td>\n",
       "      <td>0.0</td>\n",
       "      <td>0.0</td>\n",
       "      <td>0.0</td>\n",
       "      <td>0.0</td>\n",
       "      <td>0.0</td>\n",
       "      <td>0.0</td>\n",
       "      <td>0.0</td>\n",
       "      <td>0.0</td>\n",
       "      <td>0.000000</td>\n",
       "      <td>0.0</td>\n",
       "      <td>0.000000</td>\n",
       "      <td>0.0</td>\n",
       "      <td>0.0</td>\n",
       "      <td>0.0</td>\n",
       "    </tr>\n",
       "    <tr>\n",
       "      <td>3</td>\n",
       "      <td>1.0</td>\n",
       "      <td>0.0</td>\n",
       "      <td>0.0</td>\n",
       "      <td>0.0</td>\n",
       "      <td>0.0</td>\n",
       "      <td>0.0</td>\n",
       "      <td>0.0</td>\n",
       "      <td>0.0</td>\n",
       "      <td>0.0</td>\n",
       "      <td>0.0</td>\n",
       "      <td>0.0</td>\n",
       "      <td>0.0</td>\n",
       "      <td>0.0</td>\n",
       "      <td>0.0</td>\n",
       "      <td>0.000000</td>\n",
       "      <td>0.0</td>\n",
       "      <td>0.000000</td>\n",
       "      <td>0.0</td>\n",
       "      <td>0.0</td>\n",
       "      <td>0.0</td>\n",
       "    </tr>\n",
       "    <tr>\n",
       "      <td>4</td>\n",
       "      <td>0.0</td>\n",
       "      <td>0.0</td>\n",
       "      <td>0.0</td>\n",
       "      <td>0.0</td>\n",
       "      <td>0.0</td>\n",
       "      <td>0.0</td>\n",
       "      <td>0.0</td>\n",
       "      <td>0.0</td>\n",
       "      <td>0.0</td>\n",
       "      <td>0.0</td>\n",
       "      <td>0.0</td>\n",
       "      <td>0.0</td>\n",
       "      <td>1.0</td>\n",
       "      <td>0.0</td>\n",
       "      <td>0.000000</td>\n",
       "      <td>0.0</td>\n",
       "      <td>0.000000</td>\n",
       "      <td>0.0</td>\n",
       "      <td>0.0</td>\n",
       "      <td>0.0</td>\n",
       "    </tr>\n",
       "  </tbody>\n",
       "</table>\n",
       "</div>"
      ],
      "text/plain": [
       "   batuu  boarding  cantina  day  droid  experience  falcon  got  group  \\\n",
       "0    1.0       0.0      0.0  0.0    0.0         0.0     0.0  0.0    0.0   \n",
       "1    0.0       0.0      0.0  0.0    0.0         0.0     0.0  0.0    0.0   \n",
       "2    0.0       0.0      0.0  0.0    0.0         0.0     0.0  0.0    0.0   \n",
       "3    1.0       0.0      0.0  0.0    0.0         0.0     0.0  0.0    0.0   \n",
       "4    0.0       0.0      0.0  0.0    0.0         0.0     0.0  0.0    0.0   \n",
       "\n",
       "   lightsaber  like  new   nt  park  resistance  ride      rise  studio  time  \\\n",
       "0         0.0   0.0  0.0  0.0   0.0    0.000000   0.0  0.000000     0.0   0.0   \n",
       "1         0.0   0.0  0.0  0.0   0.0    0.701627   0.0  0.712544     0.0   0.0   \n",
       "2         0.0   0.0  0.0  0.0   0.0    0.000000   0.0  0.000000     0.0   0.0   \n",
       "3         0.0   0.0  0.0  0.0   0.0    0.000000   0.0  0.000000     0.0   0.0   \n",
       "4         0.0   0.0  0.0  1.0   0.0    0.000000   0.0  0.000000     0.0   0.0   \n",
       "\n",
       "   today  \n",
       "0    0.0  \n",
       "1    0.0  \n",
       "2    0.0  \n",
       "3    0.0  \n",
       "4    0.0  "
      ]
     },
     "execution_count": 15,
     "metadata": {},
     "output_type": "execute_result"
    }
   ],
   "source": [
    "tf_idf_vect = tfi(stop_words = 'english',\n",
    "                 max_features = 20)\n",
    "\n",
    "x = cleaned_data['text']\n",
    "\n",
    "tf_idf = tf_idf_vect.fit_transform([' '.join(tweet) for tweet in x])\n",
    "tf_idf_norm = normalize(tf_idf)\n",
    "tf_idf_array = tf_idf_norm.toarray()\n",
    "\n",
    "vector = pd.DataFrame(tf_idf_array,\n",
    "                     columns = tf_idf_vect.get_feature_names())\n",
    "vector.head()"
   ]
  },
  {
   "cell_type": "code",
   "execution_count": 16,
   "metadata": {
    "scrolled": false
   },
   "outputs": [
    {
     "data": {
      "text/html": [
       "<div>\n",
       "<style scoped>\n",
       "    .dataframe tbody tr th:only-of-type {\n",
       "        vertical-align: middle;\n",
       "    }\n",
       "\n",
       "    .dataframe tbody tr th {\n",
       "        vertical-align: top;\n",
       "    }\n",
       "\n",
       "    .dataframe thead th {\n",
       "        text-align: right;\n",
       "    }\n",
       "</style>\n",
       "<table border=\"1\" class=\"dataframe\">\n",
       "  <thead>\n",
       "    <tr style=\"text-align: right;\">\n",
       "      <th></th>\n",
       "      <th>batuu</th>\n",
       "      <th>boarding</th>\n",
       "      <th>cantina</th>\n",
       "      <th>day</th>\n",
       "      <th>droid</th>\n",
       "      <th>experience</th>\n",
       "      <th>falcon</th>\n",
       "      <th>got</th>\n",
       "      <th>group</th>\n",
       "      <th>lightsaber</th>\n",
       "      <th>like</th>\n",
       "      <th>new</th>\n",
       "      <th>nt</th>\n",
       "      <th>park</th>\n",
       "      <th>resistance</th>\n",
       "      <th>ride</th>\n",
       "      <th>rise</th>\n",
       "      <th>studio</th>\n",
       "      <th>time</th>\n",
       "      <th>today</th>\n",
       "    </tr>\n",
       "  </thead>\n",
       "  <tbody>\n",
       "    <tr>\n",
       "      <td>count</td>\n",
       "      <td>43158.000000</td>\n",
       "      <td>43158.000000</td>\n",
       "      <td>43158.000000</td>\n",
       "      <td>43158.000000</td>\n",
       "      <td>43158.000000</td>\n",
       "      <td>43158.000000</td>\n",
       "      <td>43158.000000</td>\n",
       "      <td>43158.000000</td>\n",
       "      <td>43158.000000</td>\n",
       "      <td>43158.000000</td>\n",
       "      <td>43158.000000</td>\n",
       "      <td>43158.000000</td>\n",
       "      <td>43158.000000</td>\n",
       "      <td>43158.000000</td>\n",
       "      <td>43158.000000</td>\n",
       "      <td>43158.000000</td>\n",
       "      <td>43158.000000</td>\n",
       "      <td>43158.000000</td>\n",
       "      <td>43158.000000</td>\n",
       "      <td>43158.000000</td>\n",
       "    </tr>\n",
       "    <tr>\n",
       "      <td>mean</td>\n",
       "      <td>0.103862</td>\n",
       "      <td>0.018028</td>\n",
       "      <td>0.021845</td>\n",
       "      <td>0.047445</td>\n",
       "      <td>0.020702</td>\n",
       "      <td>0.021483</td>\n",
       "      <td>0.031024</td>\n",
       "      <td>0.028273</td>\n",
       "      <td>0.021022</td>\n",
       "      <td>0.035603</td>\n",
       "      <td>0.028707</td>\n",
       "      <td>0.043966</td>\n",
       "      <td>0.021318</td>\n",
       "      <td>0.028131</td>\n",
       "      <td>0.054600</td>\n",
       "      <td>0.034745</td>\n",
       "      <td>0.050679</td>\n",
       "      <td>0.020780</td>\n",
       "      <td>0.037865</td>\n",
       "      <td>0.042889</td>\n",
       "    </tr>\n",
       "    <tr>\n",
       "      <td>std</td>\n",
       "      <td>0.279822</td>\n",
       "      <td>0.101414</td>\n",
       "      <td>0.138735</td>\n",
       "      <td>0.192665</td>\n",
       "      <td>0.134228</td>\n",
       "      <td>0.126180</td>\n",
       "      <td>0.161612</td>\n",
       "      <td>0.146678</td>\n",
       "      <td>0.117143</td>\n",
       "      <td>0.173630</td>\n",
       "      <td>0.152242</td>\n",
       "      <td>0.183301</td>\n",
       "      <td>0.133264</td>\n",
       "      <td>0.149252</td>\n",
       "      <td>0.176304</td>\n",
       "      <td>0.157175</td>\n",
       "      <td>0.167728</td>\n",
       "      <td>0.128977</td>\n",
       "      <td>0.172552</td>\n",
       "      <td>0.176343</td>\n",
       "    </tr>\n",
       "    <tr>\n",
       "      <td>min</td>\n",
       "      <td>0.000000</td>\n",
       "      <td>0.000000</td>\n",
       "      <td>0.000000</td>\n",
       "      <td>0.000000</td>\n",
       "      <td>0.000000</td>\n",
       "      <td>0.000000</td>\n",
       "      <td>0.000000</td>\n",
       "      <td>0.000000</td>\n",
       "      <td>0.000000</td>\n",
       "      <td>0.000000</td>\n",
       "      <td>0.000000</td>\n",
       "      <td>0.000000</td>\n",
       "      <td>0.000000</td>\n",
       "      <td>0.000000</td>\n",
       "      <td>0.000000</td>\n",
       "      <td>0.000000</td>\n",
       "      <td>0.000000</td>\n",
       "      <td>0.000000</td>\n",
       "      <td>0.000000</td>\n",
       "      <td>0.000000</td>\n",
       "    </tr>\n",
       "    <tr>\n",
       "      <td>25%</td>\n",
       "      <td>0.000000</td>\n",
       "      <td>0.000000</td>\n",
       "      <td>0.000000</td>\n",
       "      <td>0.000000</td>\n",
       "      <td>0.000000</td>\n",
       "      <td>0.000000</td>\n",
       "      <td>0.000000</td>\n",
       "      <td>0.000000</td>\n",
       "      <td>0.000000</td>\n",
       "      <td>0.000000</td>\n",
       "      <td>0.000000</td>\n",
       "      <td>0.000000</td>\n",
       "      <td>0.000000</td>\n",
       "      <td>0.000000</td>\n",
       "      <td>0.000000</td>\n",
       "      <td>0.000000</td>\n",
       "      <td>0.000000</td>\n",
       "      <td>0.000000</td>\n",
       "      <td>0.000000</td>\n",
       "      <td>0.000000</td>\n",
       "    </tr>\n",
       "    <tr>\n",
       "      <td>50%</td>\n",
       "      <td>0.000000</td>\n",
       "      <td>0.000000</td>\n",
       "      <td>0.000000</td>\n",
       "      <td>0.000000</td>\n",
       "      <td>0.000000</td>\n",
       "      <td>0.000000</td>\n",
       "      <td>0.000000</td>\n",
       "      <td>0.000000</td>\n",
       "      <td>0.000000</td>\n",
       "      <td>0.000000</td>\n",
       "      <td>0.000000</td>\n",
       "      <td>0.000000</td>\n",
       "      <td>0.000000</td>\n",
       "      <td>0.000000</td>\n",
       "      <td>0.000000</td>\n",
       "      <td>0.000000</td>\n",
       "      <td>0.000000</td>\n",
       "      <td>0.000000</td>\n",
       "      <td>0.000000</td>\n",
       "      <td>0.000000</td>\n",
       "    </tr>\n",
       "    <tr>\n",
       "      <td>75%</td>\n",
       "      <td>0.000000</td>\n",
       "      <td>0.000000</td>\n",
       "      <td>0.000000</td>\n",
       "      <td>0.000000</td>\n",
       "      <td>0.000000</td>\n",
       "      <td>0.000000</td>\n",
       "      <td>0.000000</td>\n",
       "      <td>0.000000</td>\n",
       "      <td>0.000000</td>\n",
       "      <td>0.000000</td>\n",
       "      <td>0.000000</td>\n",
       "      <td>0.000000</td>\n",
       "      <td>0.000000</td>\n",
       "      <td>0.000000</td>\n",
       "      <td>0.000000</td>\n",
       "      <td>0.000000</td>\n",
       "      <td>0.000000</td>\n",
       "      <td>0.000000</td>\n",
       "      <td>0.000000</td>\n",
       "      <td>0.000000</td>\n",
       "    </tr>\n",
       "    <tr>\n",
       "      <td>max</td>\n",
       "      <td>1.000000</td>\n",
       "      <td>1.000000</td>\n",
       "      <td>1.000000</td>\n",
       "      <td>1.000000</td>\n",
       "      <td>1.000000</td>\n",
       "      <td>1.000000</td>\n",
       "      <td>1.000000</td>\n",
       "      <td>1.000000</td>\n",
       "      <td>1.000000</td>\n",
       "      <td>1.000000</td>\n",
       "      <td>1.000000</td>\n",
       "      <td>1.000000</td>\n",
       "      <td>1.000000</td>\n",
       "      <td>1.000000</td>\n",
       "      <td>1.000000</td>\n",
       "      <td>1.000000</td>\n",
       "      <td>1.000000</td>\n",
       "      <td>1.000000</td>\n",
       "      <td>1.000000</td>\n",
       "      <td>1.000000</td>\n",
       "    </tr>\n",
       "  </tbody>\n",
       "</table>\n",
       "</div>"
      ],
      "text/plain": [
       "              batuu      boarding       cantina           day         droid  \\\n",
       "count  43158.000000  43158.000000  43158.000000  43158.000000  43158.000000   \n",
       "mean       0.103862      0.018028      0.021845      0.047445      0.020702   \n",
       "std        0.279822      0.101414      0.138735      0.192665      0.134228   \n",
       "min        0.000000      0.000000      0.000000      0.000000      0.000000   \n",
       "25%        0.000000      0.000000      0.000000      0.000000      0.000000   \n",
       "50%        0.000000      0.000000      0.000000      0.000000      0.000000   \n",
       "75%        0.000000      0.000000      0.000000      0.000000      0.000000   \n",
       "max        1.000000      1.000000      1.000000      1.000000      1.000000   \n",
       "\n",
       "         experience        falcon           got         group    lightsaber  \\\n",
       "count  43158.000000  43158.000000  43158.000000  43158.000000  43158.000000   \n",
       "mean       0.021483      0.031024      0.028273      0.021022      0.035603   \n",
       "std        0.126180      0.161612      0.146678      0.117143      0.173630   \n",
       "min        0.000000      0.000000      0.000000      0.000000      0.000000   \n",
       "25%        0.000000      0.000000      0.000000      0.000000      0.000000   \n",
       "50%        0.000000      0.000000      0.000000      0.000000      0.000000   \n",
       "75%        0.000000      0.000000      0.000000      0.000000      0.000000   \n",
       "max        1.000000      1.000000      1.000000      1.000000      1.000000   \n",
       "\n",
       "               like           new            nt          park    resistance  \\\n",
       "count  43158.000000  43158.000000  43158.000000  43158.000000  43158.000000   \n",
       "mean       0.028707      0.043966      0.021318      0.028131      0.054600   \n",
       "std        0.152242      0.183301      0.133264      0.149252      0.176304   \n",
       "min        0.000000      0.000000      0.000000      0.000000      0.000000   \n",
       "25%        0.000000      0.000000      0.000000      0.000000      0.000000   \n",
       "50%        0.000000      0.000000      0.000000      0.000000      0.000000   \n",
       "75%        0.000000      0.000000      0.000000      0.000000      0.000000   \n",
       "max        1.000000      1.000000      1.000000      1.000000      1.000000   \n",
       "\n",
       "               ride          rise        studio          time         today  \n",
       "count  43158.000000  43158.000000  43158.000000  43158.000000  43158.000000  \n",
       "mean       0.034745      0.050679      0.020780      0.037865      0.042889  \n",
       "std        0.157175      0.167728      0.128977      0.172552      0.176343  \n",
       "min        0.000000      0.000000      0.000000      0.000000      0.000000  \n",
       "25%        0.000000      0.000000      0.000000      0.000000      0.000000  \n",
       "50%        0.000000      0.000000      0.000000      0.000000      0.000000  \n",
       "75%        0.000000      0.000000      0.000000      0.000000      0.000000  \n",
       "max        1.000000      1.000000      1.000000      1.000000      1.000000  "
      ]
     },
     "execution_count": 16,
     "metadata": {},
     "output_type": "execute_result"
    }
   ],
   "source": [
    "vector.describe()"
   ]
  },
  {
   "cell_type": "markdown",
   "metadata": {},
   "source": [
    "# Modeling\n",
    "\n",
    "The unsupervised learning algorithms used include Latent Dirichlet Allocation (LDA) and Non-negative Matrix Factorization (NMF) for topic modeling, and K-means for clustering of tweets."
   ]
  },
  {
   "cell_type": "code",
   "execution_count": 17,
   "metadata": {},
   "outputs": [],
   "source": [
    "class Kmeans:\n",
    "    def __init__(self, k, seed = None, max_iter = 200):\n",
    "        self.k = k\n",
    "        self.seed = seed\n",
    "        if self.seed is not None:\n",
    "            np.random.seed(self.seed)\n",
    "        self.max_iter = max_iter\n",
    "        \n",
    "    def intialize_centroids(self,data):\n",
    "        initial_centroids = np.random.permutation(data.shape[0])[:self.k]\n",
    "        self.centroids = data[initial_centroids]\n",
    "        \n",
    "        return self.centroids\n",
    "    \n",
    "    def assign_clusters(self,data):\n",
    "        if data.ndim == 1:\n",
    "            data = data.reshape(-1,1)\n",
    "            \n",
    "        dist_to_centroid = pairwise_distances(data,self.centroids, metric = 'euclidean')\n",
    "        self.cluster_labels = np.argmin(dist_to_centroid, axis = 1)\n",
    "        \n",
    "        return self.cluster_labels\n",
    "    \n",
    "    def update_centroids(self,data):        \n",
    "        self.centroids = np.array([data[self.cluster_labels == i].mean(axis = 0) for i in range(self.k)])\n",
    "        return self.centroids\n",
    "    \n",
    "    def predict(self,data):\n",
    "        return self.assign_clusters(data)\n",
    "    \n",
    "    def fit_kmeans(self, data):\n",
    "        self.centroids = self.intialize_centroids(data)\n",
    "        \n",
    "        for iter in range(self.max_iter):\n",
    "            self.cluster_labels = self.assign_clusters(data)\n",
    "            self.centroids = self.update_centroids(data)\n",
    "            if iter % 100 == 0:\n",
    "                print('Running Model Iteration %d ' %iter)\n",
    "        print('Model finished running')\n",
    "        return self"
   ]
  },
  {
   "cell_type": "markdown",
   "metadata": {},
   "source": [
    "## SKlearn"
   ]
  },
  {
   "cell_type": "code",
   "execution_count": 18,
   "metadata": {},
   "outputs": [
    {
     "data": {
      "image/png": "[encoded data removed]",
      "text/plain": [
       "<Figure size 432x288 with 1 Axes>"
      ]
     },
     "metadata": {
      "needs_background": "light"
     },
     "output_type": "display_data"
    }
   ],
   "source": [
    "sklearn_pca = PCA(n_components = 2)\n",
    "Y_sklearn = sklearn_pca.fit_transform(tf_idf_array)\n",
    "kmeans = KMeans(n_clusters=3, max_iter=600, algorithm = 'auto') \n",
    "fitted = kmeans.fit(Y_sklearn)\n",
    "prediction = kmeans.predict(Y_sklearn)\n",
    "\n",
    "skcenters = fitted.cluster_centers_\n",
    "\n",
    "plt.scatter(Y_sklearn[:, 0], Y_sklearn[:, 1], c=prediction, s=50, cmap='viridis')\n",
    "plt.scatter(skcenters[:, 0], skcenters[:, 1], c='black', s=300, alpha=0.5)\n",
    "\n",
    "plt.tight_layout()\n",
    "\n",
    "plt.savefig('images/scatter.png', dpi=300)"
   ]
  },
  {
   "cell_type": "code",
   "execution_count": 19,
   "metadata": {},
   "outputs": [
    {
     "data": {
      "image/png": "[encoded data removed]",
      "text/plain": [
       "<Figure size 432x288 with 1 Axes>"
      ]
     },
     "metadata": {
      "needs_background": "light"
     },
     "output_type": "display_data"
    }
   ],
   "source": [
    "num_clusters = range(1, 7)\n",
    "\n",
    "kmeans = [KMeans(n_clusters=i, max_iter = 600) for i in num_clusters]\n",
    "kmeans\n",
    "\n",
    "score = [kmeans[i].fit(Y_sklearn).score(Y_sklearn) for i in range(len(kmeans))]\n",
    "score\n",
    "\n",
    "plt.plot(num_clusters, score)\n",
    "plt.xlabel('# of Clusters')\n",
    "plt.ylabel('Score')\n",
    "plt.title('Elbow Method')\n",
    "\n",
    "plt.tight_layout()\n",
    "\n",
    "plt.savefig('images/elbow.png', dpi=300)\n",
    "\n",
    "plt.show()"
   ]
  },
  {
   "cell_type": "markdown",
   "metadata": {},
   "source": [
    "## Highest Mean (tf_idf) Words in Each Cluster\n",
    "\n",
    "Short for term frequency–inverse document frequency, is a numerical statistic that is intended to reflect how important a word is to a document in a collection or corpus."
   ]
  },
  {
   "cell_type": "code",
   "execution_count": 20,
   "metadata": {},
   "outputs": [],
   "source": [
    "def get_top_feats_cluster(tf_idf_array, prediction, n_feats):\n",
    "    labels = np.unique(prediction)\n",
    "    dfs = []\n",
    "    for label in labels:\n",
    "        id_temp = np.where(prediction==label) \n",
    "        x_means = np.mean(tf_idf_array[id_temp], axis = 0)\n",
    "        sorted_means = np.argsort(x_means)[::-1][:n_feats]\n",
    "        feats = tf_idf_vect.get_feature_names()\n",
    "        best_feats = [(feats[i], x_means[i]) for i in sorted_means]\n",
    "        df = pd.DataFrame(best_feats, columns = ['features', 'score'])\n",
    "        dfs.append(df)\n",
    "    return dfs\n",
    "\n",
    "dfs = get_top_feats_cluster(tf_idf_array, prediction, 15)"
   ]
  },
  {
   "cell_type": "markdown",
   "metadata": {},
   "source": [
    "### Cluster 1 "
   ]
  },
  {
   "cell_type": "code",
   "execution_count": 21,
   "metadata": {
    "scrolled": false
   },
   "outputs": [
    {
     "data": {
      "image/png": "[encoded data removed]",
      "text/plain": [
       "<Figure size 576x432 with 1 Axes>"
      ]
     },
     "metadata": {
      "needs_background": "light"
     },
     "output_type": "display_data"
    }
   ],
   "source": [
    "plt.figure(figsize=(8,6))\n",
    "sns.barplot(x='score', y='features',data=dfs[0][:15]);\n",
    "\n",
    "plt.tight_layout()\n",
    "\n",
    "plt.savefig('images/cluster1.png', dpi=300)"
   ]
  },
  {
   "cell_type": "markdown",
   "metadata": {},
   "source": [
    "### Cluster 2"
   ]
  },
  {
   "cell_type": "code",
   "execution_count": 22,
   "metadata": {
    "scrolled": true
   },
   "outputs": [
    {
     "data": {
      "image/png": "[encoded data removed]",
      "text/plain": [
       "<Figure size 576x432 with 1 Axes>"
      ]
     },
     "metadata": {
      "needs_background": "light"
     },
     "output_type": "display_data"
    }
   ],
   "source": [
    "plt.figure(figsize=(8,6))\n",
    "sns.barplot(x='score', y='features',data=dfs[1][:15]);\n",
    "\n",
    "plt.tight_layout()\n",
    "\n",
    "plt.savefig('images/cluster2.png', dpi=300)"
   ]
  },
  {
   "cell_type": "markdown",
   "metadata": {},
   "source": [
    "### Cluster 3"
   ]
  },
  {
   "cell_type": "code",
   "execution_count": 23,
   "metadata": {
    "scrolled": true
   },
   "outputs": [
    {
     "data": {
      "image/png": "[encoded data removed]",
      "text/plain": [
       "<Figure size 576x432 with 1 Axes>"
      ]
     },
     "metadata": {
      "needs_background": "light"
     },
     "output_type": "display_data"
    }
   ],
   "source": [
    "plt.figure(figsize=(8,6))\n",
    "sns.barplot(x='score', y='features',data=dfs[2][:15]);\n",
    "\n",
    "plt.tight_layout()\n",
    "\n",
    "plt.savefig('images/cluster3.png', dpi=300)"
   ]
  },
  {
   "cell_type": "markdown",
   "metadata": {},
   "source": [
    "# Top Words from Each Cluster"
   ]
  },
  {
   "cell_type": "code",
   "execution_count": 24,
   "metadata": {
    "scrolled": true
   },
   "outputs": [
    {
     "data": {
      "image/png": "[encoded data removed]",
      "text/plain": [
       "<Figure size 1008x864 with 3 Axes>"
      ]
     },
     "metadata": {
      "needs_background": "light"
     },
     "output_type": "display_data"
    },
    {
     "data": {
      "text/plain": [
       "<Figure size 432x288 with 0 Axes>"
      ]
     },
     "metadata": {},
     "output_type": "display_data"
    }
   ],
   "source": [
    "def plot_features(dfs):\n",
    "    fig = plt.figure(figsize=(14,12))\n",
    "    x = np.arange(len(dfs[0]))\n",
    "    for i, df in enumerate(dfs):\n",
    "        ax = fig.add_subplot(1, len(dfs), i+1)\n",
    "        ax.set_title('Cluster:' + str(i), fontsize=14)\n",
    "        ax.spines['top'].set_visible(False)\n",
    "        ax.spines['right'].set_visible(False)\n",
    "        ax.set_frame_on(False)\n",
    "        ax.get_xaxis().tick_bottom()\n",
    "        ax.get_yaxis().tick_left()\n",
    "        ax.ticklabel_format(axis='x', style='sci', scilimits=(-2,2))\n",
    "        ax.barh(x, df.score, align='center', color='purple')\n",
    "        yticks = ax.set_yticklabels(df.features)\n",
    "    plt.show();\n",
    "plot_features(dfs)\n",
    "\n",
    "plt.tight_layout()\n",
    "\n",
    "plt.savefig('images/top_features.png', dpi=300)"
   ]
  }
 ],
 "metadata": {
  "kernelspec": {
   "display_name": "Python 3",
   "language": "python",
   "name": "python3"
  },
  "language_info": {
   "codemirror_mode": {
    "name": "ipython",
    "version": 3
   },
   "file_extension": ".py",
   "mimetype": "text/x-python",
   "name": "python",
   "nbconvert_exporter": "python",
   "pygments_lexer": "ipython3",
   "version": "3.7.4"
  }
 },
 "nbformat": 4,
 "nbformat_minor": 2
}
